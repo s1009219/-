{
  "nbformat": 4,
  "nbformat_minor": 0,
  "metadata": {
    "colab": {
      "provenance": []
    },
    "kernelspec": {
      "name": "python3",
      "display_name": "Python 3"
    },
    "language_info": {
      "name": "python"
    }
  },
  "cells": [
    {
      "cell_type": "code",
      "execution_count": 16,
      "metadata": {
        "colab": {
          "base_uri": "https://localhost:8080/"
        },
        "id": "ymLOEkjufo0t",
        "outputId": "c6b39436-f956-46f7-f363-894fc8d2ef14"
      },
      "outputs": [
        {
          "output_type": "stream",
          "name": "stdout",
          "text": [
            "請輸入你要查詢的值：92\n",
            "已找到\n"
          ]
        }
      ],
      "source": [
        "score = [45, 59, 62, 67, 70, 78, 83, 85, 88, 92]\n",
        "\n",
        "right = len(score)-1\n",
        "left = 0\n",
        "mid = len(score) // 2 #記住！這是整除\n",
        "\n",
        "value = input('請輸入你要查詢的值：')\n",
        "v = int(value)\n",
        "\n",
        "while score[mid] != v and left < right:\n",
        "  if score[mid] > v:\n",
        "    right = mid-1\n",
        "  else:\n",
        "    left = mid+1\n",
        "  mid = (right+left) // 2\n",
        "\n",
        "if score[mid] == v:\n",
        "  print('已找到')\n",
        "else:\n",
        "  print('沒有這筆資料')"
      ]
    },
    {
      "cell_type": "code",
      "source": [
        "score = [39, 59, 62, 67, 70, 78, 83, 85, 88, 92]\n",
        "\n",
        "right = len(score)-1\n",
        "left = 0\n",
        "x = left + int((v-score[left]) / (score[right]-score[left])) * (right - left)\n",
        "\n",
        "value = input('請輸入你要查詢的值：')\n",
        "v = int(value)\n",
        "\n",
        "while score[x] != v and left < right:\n",
        "  if score[x] > v:\n",
        "    right = x-1\n",
        "  else:\n",
        "    left = x+1\n",
        "  x = left + int((v-score[left]) / (score[right]-score[left])) * (right - left)\n",
        "\n",
        "if score[x] == v:\n",
        "  print('已找到')\n",
        "else:\n",
        "  print('沒有這筆資料')"
      ],
      "metadata": {
        "colab": {
          "base_uri": "https://localhost:8080/"
        },
        "id": "EQBndCb9hrBz",
        "outputId": "0abd14da-a597-40ff-a13c-ffb5796165ca"
      },
      "execution_count": 20,
      "outputs": [
        {
          "output_type": "stream",
          "name": "stdout",
          "text": [
            "請輸入你要查詢的值：92\n",
            "已找到\n"
          ]
        }
      ]
    },
    {
      "cell_type": "code",
      "source": [
        "import sys\n",
        "\n",
        "def search(number, des):\n",
        "    fib = fibonacci(len(number))  #先產生費比納西數列\n",
        "    max = len(number) - 1\n",
        "    y = findY(fib, max + 1)\n",
        "    m = max - fib[y]\n",
        "    x = y - 1\n",
        "\n",
        "    i = x\n",
        "    if number[i] < des:\n",
        "        i += m\n",
        "    while fib[x] > 0:\n",
        "        if number[i] < des:\n",
        "            x -= 1\n",
        "            i += fib[x]\n",
        "        elif number[i] > des:\n",
        "            x -= 1\n",
        "            i -= fib[x]\n",
        "        else:\n",
        "            return i\n",
        "    return -1\n",
        "\n",
        "def fibonacci(max):\n",
        "    fib = [0] * max\n",
        "    fib[0] = 0\n",
        "    fib[1] = 1\n",
        "    for i in range(2, max):\n",
        "        fib[i] = fib[i -1] + fib[i - 2]\n",
        "    return fib\n",
        "\n",
        "def findY(fib, n):\n",
        "    i = 0\n",
        "    while fib[i] <= n:\n",
        "        i += 1\n",
        "    return i - 1\n",
        "\n",
        "score = [11, 22, 59, 60, 63, 64, 67, 78, 83, 85, 88, 92]\n",
        "score.sort()\n",
        "\n",
        "value = input('請輸入你要查詢的值：')\n",
        "v = int(value)\n",
        "\n",
        "find = search(score, v)\n",
        "if find >= 0:\n",
        "  print('已找到')\n",
        "else:\n",
        "  print('沒有這筆資料')"
      ],
      "metadata": {
        "colab": {
          "base_uri": "https://localhost:8080/"
        },
        "id": "qai7cMBVoKsl",
        "outputId": "0b8731e0-bbe0-43de-f3f3-06e0d95931e4"
      },
      "execution_count": 25,
      "outputs": [
        {
          "output_type": "stream",
          "name": "stdout",
          "text": [
            "請輸入你要查詢的值：87\n",
            "沒有這筆資料\n"
          ]
        }
      ]
    }
  ]
}