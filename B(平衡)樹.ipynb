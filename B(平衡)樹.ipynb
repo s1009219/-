{
  "nbformat": 4,
  "nbformat_minor": 0,
  "metadata": {
    "colab": {
      "provenance": []
    },
    "kernelspec": {
      "name": "python3",
      "display_name": "Python 3"
    },
    "language_info": {
      "name": "python"
    }
  },
  "cells": [
    {
      "cell_type": "code",
      "source": [
        "class BTreeNode:\n",
        "  def __init__(self, leaf=False):\n",
        "    self.leaf = leaf  #一定要有個欄位，表明自己是否為樹葉\n",
        "    self.keys = []    #一個節點可以存多個資料\n",
        "    self.child = []   #自己的子樹有幾個，不是節點！是個！是個陣列"
      ],
      "metadata": {
        "id": "oSBMzS7yytp9"
      },
      "execution_count": null,
      "outputs": []
    },
    {
      "cell_type": "code",
      "execution_count": null,
      "metadata": {
        "id": "oVaGKA-hyknf"
      },
      "outputs": [],
      "source": [
        "class BTree:\n",
        "  def __init__(self, t):\n",
        "    self.root = BTreeNode(True)\n",
        "    self.t = t\n",
        "\n",
        "  def insert(self, k):\n",
        "    root = self.root\n",
        "    if len(root.keys) == (2 * self.t) - 1:\n",
        "      temp = BTreeNode()\n",
        "      self.root = temp\n",
        "      temp.child.insert(0, root)\n",
        "      self.split_child(temp, 0)\n",
        "      self.insert_non_full(temp, k)\n",
        "    else:\n",
        "      self.insert_non_full(root, k)\n",
        "\n",
        "  def insert_non_full(self, x, k):\n",
        "    i = len(x.keys) - 1\n",
        "    if x.leaf:\n",
        "      x.keys.append((None, None))\n",
        "      while i >= 0 and k[0] < x.keys[i][0]:\n",
        "        x.keys[i + 1] = x.keys[i]\n",
        "        i -= 1\n",
        "      x.keys[i + 1] = k\n",
        "    else:\n",
        "      while i >= 0 and k[0] < x.keys[i][0]:\n",
        "        i -= 1\n",
        "      i += 1\n",
        "      if len(x.child[i].keys) == (2 * self.t) - 1:\n",
        "        self.split_child(x, i)\n",
        "        if k[0] > x.keys[i][0]:\n",
        "          i += 1\n",
        "      self.insert_non_full(x.child[i], k)\n",
        "\n",
        "  #拆分成左子樹與右子樹\n",
        "  def split_child(self, x, i):\n",
        "    t = self.t\n",
        "    y = x.child[i]\n",
        "    z = BTreeNode(y.leaf)\n",
        "    x.child.insert(i + 1, z)\n",
        "    x.keys.insert(i, y.keys[t - 1])\n",
        "    z.keys = y.keys[t: (2 * t) - 1]\n",
        "    y.keys = y.keys[0: t - 1]\n",
        "    if not y.leaf:\n",
        "      z.child = y.child[t: 2 * t]\n",
        "      y.child = y.child[0: t - 1]\n",
        "\n",
        "  def print_tree(self, x, l=0):\n",
        "    print(\"Level \", l, \" \", len(x.keys), end=\":\")\n",
        "    for i in x.keys:\n",
        "      print(i, end=\" \")\n",
        "    print()\n",
        "    l += 1\n",
        "    if len(x.child) > 0:\n",
        "      for i in x.child:\n",
        "        self.print_tree(i, l)\n",
        "\n",
        "  def search_key(self, k, x=None):\n",
        "    if x is not None:\n",
        "      i = 0\n",
        "      while i < len(x.keys) and k > x.keys[i][0]:\n",
        "        i += 1\n",
        "      if i < len(x.keys) and k == x.keys[i][0]:\n",
        "        return (x, i)\n",
        "      elif x.leaf:\n",
        "        return None\n",
        "      else:\n",
        "        return self.search_key(k, x.child[i])\n",
        "    else:\n",
        "      return self.search_key(k, self.root)"
      ]
    },
    {
      "cell_type": "code",
      "source": [
        "B = BTree(3)\n",
        "for i in range(10):\n",
        "  B.insert((i, 2 * i))\n",
        "\n",
        "B.print_tree(B.root)\n",
        "\n",
        "if B.search_key(8) is not None:\n",
        "  print(\"\\nGot\")\n",
        "else:\n",
        "  print(\"\\nData Not Found\")"
      ],
      "metadata": {
        "colab": {
          "base_uri": "https://localhost:8080/"
        },
        "id": "STEaLjOSz61x",
        "outputId": "77a2fe91-537c-4a18-bbe7-90d03a353951"
      },
      "execution_count": null,
      "outputs": [
        {
          "output_type": "stream",
          "name": "stdout",
          "text": [
            "Level  0   2:(2, 4) (5, 10) \n",
            "Level  1   2:(0, 0) (1, 2) \n",
            "Level  1   2:(3, 6) (4, 8) \n",
            "Level  1   4:(6, 12) (7, 14) (8, 16) (9, 18) \n",
            "\n",
            "Got\n"
          ]
        }
      ]
    }
  ]
}