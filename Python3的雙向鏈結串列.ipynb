{
  "nbformat": 4,
  "nbformat_minor": 0,
  "metadata": {
    "colab": {
      "provenance": []
    },
    "kernelspec": {
      "name": "python3",
      "display_name": "Python 3"
    },
    "language_info": {
      "name": "python"
    }
  },
  "cells": [
    {
      "cell_type": "code",
      "execution_count": null,
      "metadata": {
        "id": "eY1RXYTpm6L2"
      },
      "outputs": [],
      "source": [
        "class node:\n",
        "  def __init__(self, x):\n",
        "    self.data = x\n",
        "    self.before = None\n",
        "    self.after = None"
      ]
    },
    {
      "cell_type": "code",
      "source": [
        "class doublelink:\n",
        "  length = 0\n",
        "\n",
        "  def __init__(self):\n",
        "    self.head = None\n",
        "  \n",
        "  def insertHead(self, x):\n",
        "    self.head = node(x)\n",
        "    self.head.before = self.head.after = self.head\n",
        "    self.length += 1\n",
        "\n",
        "  def insert(self, y, x):\n",
        "    tmp = self.head\n",
        "    nodeNew = node(x)\n",
        "    while True:\n",
        "      if tmp.data == y:   #如最前面的描述第二點\n",
        "        break\n",
        "      tmp = tmp.after\n",
        "    nodeNew.after = tmp.after\n",
        "    nodeNew.before = tmp\n",
        "    tmp.after.before = nodeNew\n",
        "    tmp.after = nodeNew\n",
        "    self.length += 1\n",
        "  \n",
        "  def remove(self, x):\n",
        "    tmp = self.head\n",
        "    while True:\n",
        "      if tmp.data == x:\n",
        "        break\n",
        "      tmp = tmp.after\n",
        "    if tmp == self.head and self.head.after == self.head:  #只有一個節點，就刪除了！\n",
        "      self.head = None\n",
        "    elif tmp == self.head:\n",
        "      self.head = tmp.after\n",
        "    else:\n",
        "      tmp.before.after = tmp.after\n",
        "      tmp.after.before = tmp.before\n",
        "    self.length -= 1\n",
        "\n",
        "  def printlist(self):\n",
        "    tmp = self.head\n",
        "    for i in range(0, self.length):\n",
        "      print(tmp.data, end=' ')\n",
        "      tmp = tmp.after\n",
        "    print()\n",
        "  \n",
        "  def prove(self):\n",
        "    tmp = self.head\n",
        "    \n",
        "    for i in range(0, self.length):   #先跑到最後一個節點\n",
        "      tmp = tmp.after\n",
        "    tmp = tmp.before\n",
        "\n",
        "    for i in range(0, self.length):   #從最後一個節點倒著印出來每一個值\n",
        "      print(tmp.data, end=' ')\n",
        "      tmp = tmp.before\n",
        "    print()"
      ],
      "metadata": {
        "id": "BrIEGnEEoY-8"
      },
      "execution_count": null,
      "outputs": []
    },
    {
      "cell_type": "code",
      "source": [
        "dl = doublelink()\n",
        "\n",
        "dl.insertHead(5)\n",
        "dl.insert(5, 1)\n",
        "dl.insert(1, 4)\n",
        "dl.insert(4, 8)\n",
        "dl.insert(8, 7)\n",
        "dl.insert(7, 3)\n",
        "dl.insert(3, 2)\n",
        "dl.printlist()\n",
        "\n",
        "dl.insert(7, 6)\n",
        "dl.printlist()\n",
        "\n",
        "dl.remove(8)\n",
        "dl.printlist()"
      ],
      "metadata": {
        "colab": {
          "base_uri": "https://localhost:8080/"
        },
        "id": "NiDMng9Xq-Gt",
        "outputId": "96875b41-8868-48e6-eb1c-db1b6e993be3"
      },
      "execution_count": null,
      "outputs": [
        {
          "output_type": "stream",
          "name": "stdout",
          "text": [
            "5 1 4 8 7 3 2 \n",
            "5 1 4 8 7 6 3 2 \n",
            "5 1 4 7 6 3 2 \n"
          ]
        }
      ]
    },
    {
      "cell_type": "code",
      "source": [
        "dl.prove()"
      ],
      "metadata": {
        "colab": {
          "base_uri": "https://localhost:8080/"
        },
        "id": "krEuEgZirkS9",
        "outputId": "32adb400-c51f-4c0a-a8c5-303db1a0f959"
      },
      "execution_count": null,
      "outputs": [
        {
          "output_type": "stream",
          "name": "stdout",
          "text": [
            "2 3 6 7 4 1 5 \n"
          ]
        }
      ]
    }
  ]
}