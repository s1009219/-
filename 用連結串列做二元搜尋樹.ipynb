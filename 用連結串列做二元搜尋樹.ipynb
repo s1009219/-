{
  "nbformat": 4,
  "nbformat_minor": 0,
  "metadata": {
    "colab": {
      "provenance": []
    },
    "kernelspec": {
      "name": "python3",
      "display_name": "Python 3"
    },
    "language_info": {
      "name": "python"
    }
  },
  "cells": [
    {
      "cell_type": "code",
      "source": [
        "!pip install treelib\n",
        "from treelib import Node, Tree"
      ],
      "metadata": {
        "colab": {
          "base_uri": "https://localhost:8080/"
        },
        "id": "Vszs3w_CqjwX",
        "outputId": "a5c5f2d8-cef2-4328-c634-41e3b0819e3b"
      },
      "execution_count": null,
      "outputs": [
        {
          "output_type": "stream",
          "name": "stdout",
          "text": [
            "Looking in indexes: https://pypi.org/simple, https://us-python.pkg.dev/colab-wheels/public/simple/\n",
            "Collecting treelib\n",
            "  Downloading treelib-1.6.1.tar.gz (24 kB)\n",
            "Requirement already satisfied: future in /usr/local/lib/python3.8/dist-packages (from treelib) (0.16.0)\n",
            "Building wheels for collected packages: treelib\n",
            "  Building wheel for treelib (setup.py) ... \u001b[?25l\u001b[?25hdone\n",
            "  Created wheel for treelib: filename=treelib-1.6.1-py3-none-any.whl size=18385 sha256=2f040779fdf195f5d2c671e9998cc81ffffd21c242df9353e2b68ab8df185a7e\n",
            "  Stored in directory: /root/.cache/pip/wheels/71/df/8b/6b005e3bb9b275c24dfc392cda334f43f132e85a6f17cfad3a\n",
            "Successfully built treelib\n",
            "Installing collected packages: treelib\n",
            "Successfully installed treelib-1.6.1\n"
          ]
        }
      ]
    },
    {
      "cell_type": "code",
      "source": [
        "class node:\n",
        "  def __init__(self, x):\n",
        "    self.data = x\n",
        "    self.left = self.right = None"
      ],
      "metadata": {
        "id": "q-CF8f4zlakt"
      },
      "execution_count": null,
      "outputs": []
    },
    {
      "cell_type": "code",
      "execution_count": null,
      "metadata": {
        "id": "--q8YT5Afx2z"
      },
      "outputs": [],
      "source": [
        "class BSTree:\n",
        "  def __init__(self, x):\n",
        "    self.root = node(x)\n",
        "\n",
        "  def addNode(self, ptr, x):\n",
        "    if ptr == None:\n",
        "      ptr = node(x)\n",
        "    elif ptr.data > x:\n",
        "      if ptr.left == None:\n",
        "        ptr.left = node(x)\n",
        "      else:\n",
        "        self.addNode(ptr.left, x)\n",
        "    else:\n",
        "      if ptr.right == None:\n",
        "        ptr.right = node(x)\n",
        "      else:\n",
        "        self.addNode(ptr.right, x)\n",
        "\n",
        "  def delNode(self, ptr, x):\n",
        "    if ptr.data > x:\n",
        "      ptr.left = self.delNode(ptr.left, x)\n",
        "    elif ptr.data < x:\n",
        "      ptr.right = self.delNode(ptr.right, x)\n",
        "    else:\n",
        "      if ptr.left != None and ptr.right != None:\n",
        "        tmp = ptr.right\n",
        "        while tmp.left != None:\n",
        "          tmp = tmp.left\n",
        "        ptr.data = tmp.data\n",
        "        ptr.right = self.delNode(ptr.right, ptr.data)\n",
        "      else:\n",
        "        if ptr.left == Node:\n",
        "          ptr = ptr.right\n",
        "        else:\n",
        "          ptr = ptr.left\n",
        "    return ptr\n",
        "\n",
        "  def search(self, ptr, x):\n",
        "    if ptr == None:\n",
        "      return False\n",
        "    if ptr.data == x:\n",
        "      return True\n",
        "    elif ptr.data > x:\n",
        "      return self.search(ptr.left, x)\n",
        "    else:\n",
        "      return self.search(ptr.right, x)\n",
        "  \n",
        "  def search_del(self, ptr, x):\n",
        "    if self.search(self.root, x):\n",
        "      self.root = self.delNode(self.root, x)"
      ]
    },
    {
      "cell_type": "code",
      "source": [
        "def inorder(p):\n",
        "  if p != None:\n",
        "    inorder(p.left)\n",
        "    print(p.data, end=' ')\n",
        "    inorder(p.right)"
      ],
      "metadata": {
        "id": "wI0h9ftclVaC"
      },
      "execution_count": null,
      "outputs": []
    },
    {
      "cell_type": "code",
      "source": [
        "bst = BSTree(10)\n",
        "bst.addNode(bst.root, 5)\n",
        "bst.addNode(bst.root, 3)\n",
        "bst.addNode(bst.root, 7)\n",
        "bst.addNode(bst.root, 12)\n",
        "bst.addNode(bst.root, 11)\n",
        "bst.addNode(bst.root, 13)"
      ],
      "metadata": {
        "id": "rV17NmaAl_FF"
      },
      "execution_count": null,
      "outputs": []
    },
    {
      "cell_type": "code",
      "source": [
        "#先按照鉛筆畫的順序，然後叫程式產生出來程式產生出來\n",
        "tree = Tree()\n",
        "\n",
        "tree.create_node(\"10\", \"10\")\n",
        "tree.create_node(\"5\", \"5\", parent=\"10\")\n",
        "tree.create_node(\"12\", \"12\", parent=\"10\")\n",
        "tree.create_node(\"3\", \"3\", parent=\"5\")\n",
        "tree.create_node(\"7\", \"7\", parent=\"5\")\n",
        "tree.create_node(\"11\", \"11\", parent=\"12\")\n",
        "tree.create_node(\"13\", \"13\", parent=\"12\")\n",
        "tree.create_node(\"9\", \"9\", parent=\"7\")\n",
        "\n",
        "tree.show()\n",
        "inorder(bst.root) #有沒有發現，已經排序了？\n",
        "print()"
      ],
      "metadata": {
        "colab": {
          "base_uri": "https://localhost:8080/"
        },
        "id": "mBkhcyflm01O",
        "outputId": "aab83687-e853-40ed-b876-5484741e0abb"
      },
      "execution_count": null,
      "outputs": [
        {
          "output_type": "stream",
          "name": "stdout",
          "text": [
            "10\n",
            "├── 12\n",
            "│   ├── 11\n",
            "│   └── 13\n",
            "└── 5\n",
            "    ├── 3\n",
            "    └── 7\n",
            "        └── 9\n",
            "\n",
            "3 5 7 10 11 12 13 \n"
          ]
        }
      ]
    },
    {
      "cell_type": "code",
      "source": [
        "print(bst.search(bst.root, 15))"
      ],
      "metadata": {
        "colab": {
          "base_uri": "https://localhost:8080/"
        },
        "id": "nLpQ8n0jvJ4L",
        "outputId": "44d30574-0657-4bf1-865c-1827b973c1a1"
      },
      "execution_count": null,
      "outputs": [
        {
          "output_type": "stream",
          "name": "stdout",
          "text": [
            "False\n"
          ]
        }
      ]
    }
  ]
}