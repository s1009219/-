{
  "nbformat": 4,
  "nbformat_minor": 0,
  "metadata": {
    "colab": {
      "provenance": [],
      "collapsed_sections": []
    },
    "kernelspec": {
      "name": "python3",
      "display_name": "Python 3"
    },
    "language_info": {
      "name": "python"
    }
  },
  "cells": [
    {
      "cell_type": "markdown",
      "source": [
        "Python3的的List就已經有各式各樣，以往要寫一大堆電腦程式才能辦到，管理數據與資料的功能！像是AI運算常見的矩陣、大數據大數據Big Data常用來收集與處理大量資訊列表，都可以透過可以透過Python3的的List進行處理與管理"
      ],
      "metadata": {
        "id": "k0NILFsbC1GJ"
      }
    },
    {
      "cell_type": "code",
      "execution_count": 1,
      "metadata": {
        "id": "pe4PRdpaC0Xk"
      },
      "outputs": [],
      "source": [
        "X=[5,1,4,8,7,3,2]"
      ]
    },
    {
      "cell_type": "markdown",
      "source": [
        "雙向運轉，還可以新增、修改、刪除和查詢"
      ],
      "metadata": {
        "id": "aWqT8Ff4D1nZ"
      }
    },
    {
      "cell_type": "code",
      "source": [
        "#一路向後\n",
        "for i in range(0,len(X)):\n",
        "  print(X[i], end = ' ')  #這樣就可以不用自動換行，輸出改為一個空格\n",
        "print()\n",
        "\n",
        "#倒過來向前\n",
        "for i in range(-1,-(len(X)+1),-1):\n",
        "  print(X[i], end = ' ')\n",
        "print()"
      ],
      "metadata": {
        "colab": {
          "base_uri": "https://localhost:8080/"
        },
        "id": "DvbmM8l0Dy6t",
        "outputId": "be05dd02-b55e-4e1d-9e6b-76b6d360f08b"
      },
      "execution_count": 2,
      "outputs": [
        {
          "output_type": "stream",
          "name": "stdout",
          "text": [
            "5 1 4 8 7 3 2 \n",
            "2 3 7 8 4 1 5 \n"
          ]
        }
      ]
    },
    {
      "cell_type": "code",
      "source": [
        "X.append(6)\n",
        "for i in range(0,len(X)):\n",
        "  print(X[i], end = ' ')\n",
        "print()"
      ],
      "metadata": {
        "colab": {
          "base_uri": "https://localhost:8080/"
        },
        "id": "QtHUPMZaFgJt",
        "outputId": "57dfcc58-e8f1-4489-fb8d-8c6c0f5ba90a"
      },
      "execution_count": 3,
      "outputs": [
        {
          "output_type": "stream",
          "name": "stdout",
          "text": [
            "5 1 4 8 7 3 2 6 \n"
          ]
        }
      ]
    },
    {
      "cell_type": "code",
      "source": [
        "X.remove(7) #可以做到只要指定目標的數值，自動進行尋找，然後刪除\n",
        "for i in range(0,len(X)):\n",
        "  print(X[i], end = ' ')\n",
        "print()"
      ],
      "metadata": {
        "colab": {
          "base_uri": "https://localhost:8080/"
        },
        "id": "eg9LaAT-FpNW",
        "outputId": "b01d909f-12dd-49f4-b535-3b9cb15111f2"
      },
      "execution_count": 4,
      "outputs": [
        {
          "output_type": "stream",
          "name": "stdout",
          "text": [
            "5 1 4 8 3 2 6 \n"
          ]
        }
      ]
    },
    {
      "cell_type": "code",
      "source": [
        "X.pop(-2) #上週介紹過的pop()，其實可以指定柱標，進行剔除\n",
        "for i in range(0,len(X)):\n",
        "  print(X[i], end = ' ')\n",
        "print()"
      ],
      "metadata": {
        "colab": {
          "base_uri": "https://localhost:8080/"
        },
        "id": "Shepb_OEHCpO",
        "outputId": "324fc21c-2963-492a-fe0e-6fdc753f3ca1"
      },
      "execution_count": 5,
      "outputs": [
        {
          "output_type": "stream",
          "name": "stdout",
          "text": [
            "5 1 4 8 3 6 \n"
          ]
        }
      ]
    },
    {
      "cell_type": "code",
      "source": [
        "X.insert(4, 7)  #在柱標第四個位置，插入7這個數值\n",
        "for i in range(0,len(X)):\n",
        "  print(X[i], end = ' ')\n",
        "print()"
      ],
      "metadata": {
        "colab": {
          "base_uri": "https://localhost:8080/"
        },
        "id": "IkzLMQBvITC-",
        "outputId": "53ce3c8b-425c-4e7c-8bb4-5eb259fb98c2"
      },
      "execution_count": 6,
      "outputs": [
        {
          "output_type": "stream",
          "name": "stdout",
          "text": [
            "5 1 4 8 7 3 6 \n"
          ]
        }
      ]
    },
    {
      "cell_type": "code",
      "source": [
        "X[-1] = 2 #Python3的柱標如果是正的，代表從左到右算，反之如果是負的，就是從右到左算\n",
        "for i in range(0,len(X)):\n",
        "  print(X[i], end = ' ')\n",
        "print()"
      ],
      "metadata": {
        "colab": {
          "base_uri": "https://localhost:8080/"
        },
        "id": "ZSE1N9__I-y-",
        "outputId": "7e457a10-3bb6-4b42-83ac-b5d1bb3fd331"
      },
      "execution_count": 7,
      "outputs": [
        {
          "output_type": "stream",
          "name": "stdout",
          "text": [
            "5 1 4 8 7 3 2 \n"
          ]
        }
      ]
    },
    {
      "cell_type": "code",
      "source": [
        "print(\"The first index that element is 7:\", X.index(7))  #用index()就可以自動針對目標值搜尋所在的柱標位置"
      ],
      "metadata": {
        "colab": {
          "base_uri": "https://localhost:8080/"
        },
        "id": "wbC8EdeYJpCm",
        "outputId": "0f6dd641-7f0b-44bf-c3d0-3cefa9dd429f"
      },
      "execution_count": 8,
      "outputs": [
        {
          "output_type": "stream",
          "name": "stdout",
          "text": [
            "The first index that element is 7: 4\n"
          ]
        }
      ]
    },
    {
      "cell_type": "code",
      "source": [
        "print(\"The maxinum is\", max(X)) #很容易求出最大與最小值\n",
        "print(\"The mininum is\", min(X))"
      ],
      "metadata": {
        "colab": {
          "base_uri": "https://localhost:8080/"
        },
        "id": "SofDxWUFKzl-",
        "outputId": "1e58dd98-908e-49cb-d4fb-1c61a9be16c5"
      },
      "execution_count": 9,
      "outputs": [
        {
          "output_type": "stream",
          "name": "stdout",
          "text": [
            "The maxinum is 8\n",
            "The mininum is 1\n"
          ]
        }
      ]
    },
    {
      "cell_type": "code",
      "source": [
        "print(\"How many times does the number 1 appear?\", X.count(1)) #自動掃描整個自動掃描整個List求出出現次數有無重複"
      ],
      "metadata": {
        "colab": {
          "base_uri": "https://localhost:8080/"
        },
        "id": "PwHLXNP9LzRg",
        "outputId": "96f8533c-41b5-4e18-91b2-72086c4a16fd"
      },
      "execution_count": 10,
      "outputs": [
        {
          "output_type": "stream",
          "name": "stdout",
          "text": [
            "How many times does the number 1 appear? 1\n"
          ]
        }
      ]
    },
    {
      "cell_type": "markdown",
      "source": [
        "還沒哩！"
      ],
      "metadata": {
        "id": "_OW1w3tKJjUW"
      }
    },
    {
      "cell_type": "code",
      "source": [
        "Y=X.copy()  #把整個陣列拷貝給Y\n",
        "print(Y)"
      ],
      "metadata": {
        "colab": {
          "base_uri": "https://localhost:8080/"
        },
        "id": "Eda1qEK8Mw4X",
        "outputId": "63996600-cbde-4856-b306-5a4300d06e48"
      },
      "execution_count": 11,
      "outputs": [
        {
          "output_type": "stream",
          "name": "stdout",
          "text": [
            "[5, 1, 4, 8, 7, 3, 2]\n"
          ]
        }
      ]
    },
    {
      "cell_type": "code",
      "source": [
        "Y=X[2:5].copy() #也可以只有X之其中一段\n",
        "print(Y)"
      ],
      "metadata": {
        "colab": {
          "base_uri": "https://localhost:8080/"
        },
        "id": "qBnOCi5rNFZn",
        "outputId": "b7107fb2-7eb2-476d-ac4a-5572a69a54f2"
      },
      "execution_count": 12,
      "outputs": [
        {
          "output_type": "stream",
          "name": "stdout",
          "text": [
            "[4, 8, 7]\n"
          ]
        }
      ]
    },
    {
      "cell_type": "code",
      "source": [
        "Y.reverse() #直接將所有元素倒過來放\n",
        "print(\"The reversed Y:\", Y)"
      ],
      "metadata": {
        "colab": {
          "base_uri": "https://localhost:8080/"
        },
        "id": "PLOSzqcDNuYT",
        "outputId": "93cfd572-c6c1-43e7-d1fd-1041a95590b7"
      },
      "execution_count": 13,
      "outputs": [
        {
          "output_type": "stream",
          "name": "stdout",
          "text": [
            "The reversed Y: [7, 8, 4]\n"
          ]
        }
      ]
    },
    {
      "cell_type": "code",
      "source": [
        "Z={9,10}\n",
        "Y.extend(Z) #就算Z是個set，依然可以用依然可以用extend把Z的內容加進來\n",
        "print(Y)"
      ],
      "metadata": {
        "colab": {
          "base_uri": "https://localhost:8080/"
        },
        "id": "9V1FP1cGOrIT",
        "outputId": "aaa98328-e10e-4e52-f8f3-ff3092c4c5ed"
      },
      "execution_count": 14,
      "outputs": [
        {
          "output_type": "stream",
          "name": "stdout",
          "text": [
            "[7, 8, 4, 9, 10]\n"
          ]
        }
      ]
    },
    {
      "cell_type": "code",
      "source": [
        "Y.clear() #直接清除\n",
        "print(Y)"
      ],
      "metadata": {
        "colab": {
          "base_uri": "https://localhost:8080/"
        },
        "id": "0KTvaa3kPPss",
        "outputId": "42a700b9-4b29-41fb-ba25-1a85c4385cab"
      },
      "execution_count": 15,
      "outputs": [
        {
          "output_type": "stream",
          "name": "stdout",
          "text": [
            "[]\n"
          ]
        }
      ]
    },
    {
      "cell_type": "code",
      "source": [
        "Y=[10,9]\n",
        "X=X+Y   #可以直接用加號，把另一個可以直接把另一個List加掛到裡面\n",
        "print(X)"
      ],
      "metadata": {
        "colab": {
          "base_uri": "https://localhost:8080/"
        },
        "id": "hKhaU5ApPe7i",
        "outputId": "af1a56a4-7bf9-4982-8af5-7b8ad51929de"
      },
      "execution_count": 16,
      "outputs": [
        {
          "output_type": "stream",
          "name": "stdout",
          "text": [
            "[5, 1, 4, 8, 7, 3, 2, 10, 9]\n"
          ]
        }
      ]
    },
    {
      "cell_type": "code",
      "source": [
        "X.sort()  #遞增排序\n",
        "print(X)\n",
        "X.sort(reverse=True)  #遞減排序\n",
        "print(X)"
      ],
      "metadata": {
        "colab": {
          "base_uri": "https://localhost:8080/"
        },
        "id": "frRqV2u2PzRv",
        "outputId": "372f75fe-d8a6-44b5-fcd2-69669458ab21"
      },
      "execution_count": 17,
      "outputs": [
        {
          "output_type": "stream",
          "name": "stdout",
          "text": [
            "[1, 2, 3, 4, 5, 7, 8, 9, 10]\n",
            "[10, 9, 8, 7, 5, 4, 3, 2, 1]\n"
          ]
        }
      ]
    },
    {
      "cell_type": "markdown",
      "source": [
        "看到了吧～～Python3的List，跟開掛了的差不多，要是考試都用要是考試都用Python3，那很多東西其實是不用寫地"
      ],
      "metadata": {
        "id": "lH_N5974QUh8"
      }
    }
  ]
}