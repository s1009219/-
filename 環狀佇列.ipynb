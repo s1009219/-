{
  "nbformat": 4,
  "nbformat_minor": 0,
  "metadata": {
    "colab": {
      "provenance": []
    },
    "kernelspec": {
      "name": "python3",
      "display_name": "Python 3"
    },
    "language_info": {
      "name": "python"
    }
  },
  "cells": [
    {
      "cell_type": "code",
      "execution_count": 1,
      "metadata": {
        "id": "Fx58RQTJmNj_"
      },
      "outputs": [],
      "source": [
        "class CircleQueue:\n",
        "  def __init__(self, size):\n",
        "    self.size = size\n",
        "    self.data = [0] * size\n",
        "    self.front = self.back = 0\n",
        "\n",
        "  def isFull(self):\n",
        "    if ((self.back + 1) % self.size) == self.front:\n",
        "      return True\n",
        "    else:\n",
        "      return False\n",
        "\n",
        "  def isEmpty(self):\n",
        "    if self.back == self.front:\n",
        "      return True\n",
        "    else:\n",
        "      return False\n",
        "\n",
        "  def add(self, x):\n",
        "    if self.isFull():\n",
        "      print('已無空間可存放資料')\n",
        "    else:\n",
        "      self.data[self.back] = x\n",
        "      self.back = (self.back + 1) % self.size\n",
        "\n",
        "  def remove(self):\n",
        "    if self.isEmpty():\n",
        "      print('根本目前沒有資料')\n",
        "    else:\n",
        "      item = self.data[self.front]  #永遠從頭抓資料頭抓資料\n",
        "      self.front = (self.front + 1) % self.size\n",
        "      return item\n",
        "\n",
        "  def printQueue(self):\n",
        "    if not self.isEmpty():\n",
        "      if self.back > self.front:\n",
        "        for i in range(self.front, self.back):\n",
        "          print(self.data[i], end=' ')\n",
        "      else:\n",
        "        for i in range(self.front, self.size):  #這就是環狀的好處！因為資料取出後可以回收空間\n",
        "          print(self.data[i], end=' ')\n",
        "        for i in range(0, self.back):\n",
        "          print(self.data[i], end=' ')\n",
        "      print()"
      ]
    },
    {
      "cell_type": "code",
      "source": [
        "q = CircleQueue(8)  #5 1 4 8 7 3 2有七個資料，但需要八個節點節點\n",
        "q.add(5)\n",
        "q.add(1)\n",
        "q.add(4)\n",
        "q.add(8)\n",
        "q.add(7)\n",
        "q.add(3)\n",
        "q.add(2)\n",
        "q.printQueue()"
      ],
      "metadata": {
        "colab": {
          "base_uri": "https://localhost:8080/"
        },
        "id": "2OIOu5vbp88l",
        "outputId": "eae9b02e-3088-4b50-c025-d526861d01b9"
      },
      "execution_count": 2,
      "outputs": [
        {
          "output_type": "stream",
          "name": "stdout",
          "text": [
            "5 1 4 8 7 3 2 \n"
          ]
        }
      ]
    },
    {
      "cell_type": "code",
      "source": [
        "print(f'取得資料： {q.remove()}')\n",
        "q.printQueue()"
      ],
      "metadata": {
        "colab": {
          "base_uri": "https://localhost:8080/"
        },
        "id": "_ET03VoaqbhY",
        "outputId": "4deae1bc-c544-478d-d6b4-dcbcede550b7"
      },
      "execution_count": 3,
      "outputs": [
        {
          "output_type": "stream",
          "name": "stdout",
          "text": [
            "取得資料： 5\n",
            "1 4 8 7 3 2 \n"
          ]
        }
      ]
    }
  ]
}