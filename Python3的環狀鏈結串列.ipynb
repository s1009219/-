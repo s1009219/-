{
  "nbformat": 4,
  "nbformat_minor": 0,
  "metadata": {
    "colab": {
      "provenance": []
    },
    "kernelspec": {
      "name": "python3",
      "display_name": "Python 3"
    },
    "language_info": {
      "name": "python"
    }
  },
  "cells": [
    {
      "cell_type": "markdown",
      "source": [
        "本案例預想：\n",
        "1. 節點中的資料均無重複\n",
        "2. 各節點的資料已先確知，否則搜尋的時後找不到會無法停止程式"
      ],
      "metadata": {
        "id": "urW8et-Wgz8N"
      }
    },
    {
      "cell_type": "code",
      "execution_count": null,
      "metadata": {
        "id": "U4w2K-MCJ7hb"
      },
      "outputs": [],
      "source": [
        "class node:\n",
        "  def __init__(self, x):\n",
        "    self.data = x\n",
        "    self.next = None"
      ]
    },
    {
      "cell_type": "code",
      "source": [
        "class circlelink:\n",
        "  def __init__(self):\n",
        "    self.head = None\n",
        "  \n",
        "  def insertHead(self, x):\n",
        "    self.head = node(x)\n",
        "    self.head.next = self.head\n",
        "\n",
        "  def insert(self, y, x):\n",
        "    tmp = self.head\n",
        "    nodeNew = node(x)\n",
        "    while True:\n",
        "      if tmp.data == y:   #如最前面的描述第二點\n",
        "        break\n",
        "      tmp = tmp.next\n",
        "    nodeNew.next = tmp.next\n",
        "    tmp.next = nodeNew\n",
        "  \n",
        "  def remove(self, x):\n",
        "    prev = self.head\n",
        "    tmp = self.head.next\n",
        "    while True:\n",
        "      if tmp.data == x:\n",
        "        break\n",
        "      prev = tmp        #交互著前進，tmp當柱標、prev負責幫忙抓住要刪除的前一個節點\n",
        "      tmp = tmp.next\n",
        "    if tmp == self.head and self.head.next == self.head:  #只有一個節點，就刪除了！\n",
        "      self.head = None\n",
        "    elif tmp == self.head:\n",
        "      self.head = self.head.next\n",
        "      prev.next = self.head\n",
        "    else:\n",
        "      prev.next = tmp.next  #prev直接跳過直接跳過tmp，指向其next，這樣就剔除了\n",
        "\n",
        "  def length(self):\n",
        "    count = 0\n",
        "    if self.head == None:\n",
        "      return 0\n",
        "    else:\n",
        "      tmp = self.head.next\n",
        "      while tmp != self.head:\n",
        "        count+=1\n",
        "        tmp = tmp.next\n",
        "      return count+1\n",
        "\n",
        "  def printlist(self):\n",
        "    l = self.length()\n",
        "    tmp = self.head\n",
        "    for i in range(0,l):\n",
        "      print(tmp.data, end=' ')\n",
        "      tmp = tmp.next\n",
        "    print()\n",
        "  \n",
        "  def prove(self):\n",
        "    tmp = self.head\n",
        "    while tmp.next != self.head:  #跑到最後一個節點\n",
        "      tmp = tmp.next\n",
        "    print('The value in last node:', tmp.data)\n",
        "    tmp = tmp.next                #已經在最後一個節點，再向下個節點向下個節點\n",
        "    print('The value in node(head):', tmp.data)"
      ],
      "metadata": {
        "id": "J3oSTUcGK7vF"
      },
      "execution_count": null,
      "outputs": []
    },
    {
      "cell_type": "code",
      "source": [
        "cl = circlelink()\n",
        "\n",
        "cl.insertHead(5)\n",
        "cl.insert(5, 1)\n",
        "cl.insert(1, 4)\n",
        "cl.insert(4, 8)\n",
        "cl.insert(8, 7)\n",
        "cl.insert(7, 3)\n",
        "cl.insert(3, 2)\n",
        "cl.printlist()\n",
        "\n",
        "cl.insert(7, 6)\n",
        "cl.printlist()\n",
        "\n",
        "cl.remove(8)\n",
        "cl.printlist()"
      ],
      "metadata": {
        "colab": {
          "base_uri": "https://localhost:8080/"
        },
        "id": "CWY7hKfWjoha",
        "outputId": "fb4d3a81-5a9f-458a-f5c4-d8b37adb3f22"
      },
      "execution_count": null,
      "outputs": [
        {
          "output_type": "stream",
          "name": "stdout",
          "text": [
            "5 1 4 8 7 3 2 \n",
            "5 1 4 8 7 6 3 2 \n",
            "5 1 4 7 6 3 2 \n"
          ]
        }
      ]
    },
    {
      "cell_type": "code",
      "source": [
        "#為了證明一定是環狀，所以先跑到最後一個節點，印出資料後，再搜尋其下個節點必定回到必定回到head\n",
        "cl.prove()"
      ],
      "metadata": {
        "colab": {
          "base_uri": "https://localhost:8080/"
        },
        "id": "8X9pVdbRkHWd",
        "outputId": "922b70ca-a103-48ef-c8fc-a30128b7ed2b"
      },
      "execution_count": null,
      "outputs": [
        {
          "output_type": "stream",
          "name": "stdout",
          "text": [
            "The value in last node: 2\n",
            "The value in node(head): 5\n"
          ]
        }
      ]
    }
  ]
}