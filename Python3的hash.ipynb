{
  "cells": [
    {
      "cell_type": "markdown",
      "metadata": {
        "id": "rRravS3tLRhg"
      },
      "source": [
        "利用Python3的的hash()搭配dictionary做雜湊表"
      ]
    },
    {
      "cell_type": "code",
      "execution_count": 3,
      "metadata": {
        "id": "tb6iEWS9Jc91"
      },
      "outputs": [],
      "source": [
        "hash_table = {}\n",
        "\n",
        "data1 = \"Daniel\"\n",
        "data2 = \"劭宇\"\n",
        "data3 = \"大B\""
      ]
    },
    {
      "cell_type": "code",
      "execution_count": 4,
      "metadata": {
        "colab": {
          "base_uri": "https://localhost:8080/"
        },
        "id": "wVqXUQAOLvCj",
        "outputId": "1e420ac8-9ba8-4aef-85c7-d56a0b596907"
      },
      "outputs": [
        {
          "name": "stdout",
          "output_type": "stream",
          "text": [
            "Daniel 的的雜湊雜湊key value = 6076534285295248853\n",
            "劭宇 的的雜湊雜湊key value = 8297365724532888050\n",
            "大B 的的雜湊雜湊key value = 1947491996999493924\n"
          ]
        }
      ],
      "source": [
        "hash1 = hash(data1)\n",
        "hash2 = hash(data2)\n",
        "hash3 = hash(data3)\n",
        "\n",
        "print(f'{data1} 的的雜湊雜湊key value = {hash1}')\n",
        "print(f'{data2} 的的雜湊雜湊key value = {hash2}')\n",
        "print(f'{data3} 的的雜湊雜湊key value = {hash3}')"
      ]
    },
    {
      "cell_type": "code",
      "execution_count": 5,
      "metadata": {
        "colab": {
          "base_uri": "https://localhost:8080/"
        },
        "id": "bXUgUMfzML7v",
        "outputId": "d6b0b57f-9dfb-4326-fadd-d06cacbb86f5"
      },
      "outputs": [
        {
          "name": "stdout",
          "output_type": "stream",
          "text": [
            "{6076534285295248853: 'Daniel', 8297365724532888050: '劭宇', 1947491996999493924: '大B'}\n"
          ]
        }
      ],
      "source": [
        "hash_table[hash1] = data1\n",
        "hash_table[hash2] = data2\n",
        "hash_table[hash3] = data3\n",
        "\n",
        "print(hash_table)"
      ]
    },
    {
      "cell_type": "markdown",
      "metadata": {
        "id": "CNKVFKthNPTZ"
      },
      "source": [
        "如此一來，只要用，只要用key value就可以直接抓出來"
      ]
    },
    {
      "cell_type": "code",
      "execution_count": 7,
      "metadata": {
        "id": "gEWWlrlzNNZ3"
      },
      "outputs": [],
      "source": [
        "#以下為兩個要搜尋的資料\n",
        "\n",
        "my_data1 = 'Daniel'\n",
        "my_data2 = 'Books'"
      ]
    },
    {
      "cell_type": "code",
      "execution_count": 8,
      "metadata": {
        "colab": {
          "base_uri": "https://localhost:8080/"
        },
        "id": "MQ-1H5KLNcbF",
        "outputId": "603a00a3-8b23-41e2-9031-f3cff6f13f64"
      },
      "outputs": [
        {
          "name": "stdout",
          "output_type": "stream",
          "text": [
            "Daniel\n"
          ]
        }
      ],
      "source": [
        "#看到沒！？根本不必比較就可以直接搜尋\n",
        "\n",
        "my_hash1 = hash(my_data1)\n",
        "print(hash_table[my_hash1])"
      ]
    },
    {
      "cell_type": "code",
      "execution_count": 9,
      "metadata": {
        "colab": {
          "base_uri": "https://localhost:8080/"
        },
        "id": "aYRP4JOSOAQ_",
        "outputId": "0d94bdfa-5613-4792-df4a-210f8111871e"
      },
      "outputs": [
        {
          "name": "stdout",
          "output_type": "stream",
          "text": [
            "找不到這資料\n"
          ]
        }
      ],
      "source": [
        "#因為我們的雜湊表裡面，不含有滷肉飯這筆資料，所以找不到了！\n",
        "\n",
        "my_hash2 = hash(my_data2)\n",
        "try:\n",
        "  print(hash_table[my_hash2])\n",
        "except:\n",
        "  print('找不到這資料')"
      ]
    }
  ],
  "metadata": {
    "colab": {
      "provenance": []
    },
    "kernelspec": {
      "display_name": "Python 3",
      "name": "python3"
    },
    "language_info": {
      "codemirror_mode": {
        "name": "ipython",
        "version": 3
      },
      "file_extension": ".py",
      "mimetype": "text/x-python",
      "name": "python",
      "nbconvert_exporter": "python",
      "pygments_lexer": "ipython3",
      "version": "3.10.5"
    }
  },
  "nbformat": 4,
  "nbformat_minor": 0
}
