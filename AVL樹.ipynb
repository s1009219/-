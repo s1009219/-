{
  "cells": [
    {
      "cell_type": "code",
      "execution_count": null,
      "metadata": {
        "id": "RzeBgUPYDjFY"
      },
      "outputs": [],
      "source": [
        "class AVLtree:\n",
        "  def __init__(self, value):\n",
        "    self.val = value\n",
        "    self.left = self.right = None\n",
        "    self.height = 1\n",
        "\n",
        "  def getHeight(self, node):\n",
        "    if node == None:\n",
        "      return 0\n",
        "    else:\n",
        "      return node.height\n",
        "\n",
        "  def updateHeight(self, node):\n",
        "    #就是這段在模擬講義中的就是這段在模擬講義中的big()\n",
        "    if self.getHeight(node.left) > self.getHeight(node.right):\n",
        "      node.height = self.getHeight(node.left) + 1\n",
        "    else:\n",
        "      node.height = self.getHeight(node.right) + 1\n",
        "\n",
        "  #以下就是以下就是LL、LR、RR、RL的實際程式做法的實際程式做法\n",
        "  def LL(self, node):\n",
        "    left = node.left\n",
        "    lr = left.right\n",
        "    left.right = node\n",
        "    left.right.left = lr\n",
        "    self.updateHeight(left.right)\n",
        "    self.updateHeight(left)\n",
        "    return left\n",
        "\n",
        "  def RR(self, node):\n",
        "    right = node.right\n",
        "    rl = right.left\n",
        "    right.left = node\n",
        "    right.left.right = rl\n",
        "    self.updateHeight(right.left)\n",
        "    self.updateHeight(right)\n",
        "    return right\n",
        "\n",
        "  def LR(self, node):\n",
        "    left = node.left\n",
        "    lr = left.right\n",
        "    lrl = lr.left\n",
        "    lrr = lr.right\n",
        "    lr.left = left\n",
        "    lr.right = node\n",
        "    lr.left.right = lrl\n",
        "    lr.right.left = lrr\n",
        "    self.updateHeight(lr.left)\n",
        "    self.updateHeight(lr.right)\n",
        "    self.updateHeight(lr)\n",
        "    return lr\n",
        "\n",
        "  def RL(self, node):\n",
        "    right = node.right\n",
        "    rl = right.left\n",
        "    rll = rl.left\n",
        "    rlr = rl.right\n",
        "    rl.left = node\n",
        "    rl.right = right\n",
        "    node.right = rll\n",
        "    right.left = rlr\n",
        "    self.updateHeight(rl.left)\n",
        "    self.updateHeight(rl.right)\n",
        "    self.updateHeight(rl)\n",
        "    return rl\n",
        "\n",
        "  #這兩個就是每次新增的時候，用來自動平衡的\n",
        "  def leftBalance(self, node, x):\n",
        "    if x < node.left.val:\n",
        "      node = self.LL(node)\n",
        "    else:\n",
        "      node = self.LR(node)\n",
        "    return node\n",
        "\n",
        "  def rightBalance(self, node, x):\n",
        "    if x < node.right.val:\n",
        "      node = self.RL(node)\n",
        "    else:\n",
        "      node = self.RR(node)\n",
        "    return node\n",
        "\n",
        "  def addNode(self, node, x):\n",
        "    if node != None:\n",
        "      if node.val > x:\n",
        "        node.left = self.addNode(node.left, x)\n",
        "\n",
        "        #靠遞迴更新靠遞迴更新node之後，再判斷是否要左平衡\n",
        "        if abs(self.getHeight(node.left) - self.getHeight(node.right)) == 2:\n",
        "          node = self.leftBalance(node, x)\n",
        "      else:\n",
        "        node.right = self.addNode(node.right, x)\n",
        "\n",
        "        #靠遞迴更新靠遞迴更新node之後，再判斷是否要右平衡\n",
        "        if abs(self.getHeight(node.left) - self.getHeight(node.right)) == 2:\n",
        "          node = self.rightBalance(node, x)\n",
        "    else:\n",
        "      node = AVLtree(x)\n",
        "    self.updateHeight(node)\n",
        "    return node\n",
        "\n",
        "  def search(self, node, x):\n",
        "    if node == None:\n",
        "      return False\n",
        "    if node.val == x:\n",
        "      return True\n",
        "    elif node.val > x:\n",
        "      return self.search(node.left, x)\n",
        "    else:\n",
        "      return self.search(node.right, x)\n",
        "\n",
        "  def inorder(self, node):\n",
        "    if node != None:\n",
        "      self.inorder(node.left)\n",
        "      print(node.val, end=' ')\n",
        "      self.inorder(node.right)"
      ]
    },
    {
      "cell_type": "code",
      "execution_count": null,
      "metadata": {
        "colab": {
          "base_uri": "https://localhost:8080/"
        },
        "id": "WrYfqQmVRTI_",
        "outputId": "1e795b93-dc46-46ba-864f-b5b67c9dafa9"
      },
      "outputs": [
        {
          "name": "stdout",
          "output_type": "stream",
          "text": [
            "5 10 \n",
            "5 10 12 \n",
            "3 5 10 12 \n",
            "3 5 7 10 12 \n",
            "1 3 5 7 10 12 \n"
          ]
        }
      ],
      "source": [
        "root = AVLtree(10)\n",
        "data = [5, 12, 3, 7, 1]\n",
        "for i in range(len(data)):\n",
        "  root = root.addNode(root, data[i])\n",
        "  root.inorder(root)\n",
        "  print()"
      ]
    },
    {
      "cell_type": "code",
      "execution_count": null,
      "metadata": {
        "colab": {
          "base_uri": "https://localhost:8080/"
        },
        "id": "riFG9tafS2c_",
        "outputId": "8435dec7-aba2-41a9-95d8-ade2a8817e85"
      },
      "outputs": [
        {
          "name": "stdout",
          "output_type": "stream",
          "text": [
            "False\n",
            "True\n"
          ]
        }
      ],
      "source": [
        "print(root.search(root, 13))\n",
        "print(root.search(root, 3))"
      ]
    }
  ],
  "metadata": {
    "colab": {
      "provenance": []
    },
    "kernelspec": {
      "display_name": "Python 3",
      "language": "python",
      "name": "python3"
    },
    "language_info": {
      "name": "python",
      "version": "3.10.5 (tags/v3.10.5:f377153, Jun  6 2022, 16:14:13) [MSC v.1929 64 bit (AMD64)]"
    },
    "vscode": {
      "interpreter": {
        "hash": "32f2fe102a4f10662d8c13f75131e1ba377b7194060421a642fdea27c55fc65a"
      }
    }
  },
  "nbformat": 4,
  "nbformat_minor": 0
}
