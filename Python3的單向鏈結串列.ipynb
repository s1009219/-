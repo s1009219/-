{
  "cells": [
    {
      "cell_type": "markdown",
      "metadata": {
        "id": "k4uskWq4UYEw"
      },
      "source": [
        "本案例有以下假設：：\n",
        "1. 每個節點的資料不一樣\n",
        "2. 插入的時候，都要指定前一個節點，不管後一個節點是否為尾巴"
      ]
    },
    {
      "cell_type": "code",
      "execution_count": 2,
      "metadata": {
        "id": "xlfUrfP-Cuu1"
      },
      "outputs": [],
      "source": [
        "class node:\n",
        "  def __init__(self, x):\n",
        "    self.data = x\n",
        "    self.next = None"
      ]
    },
    {
      "cell_type": "code",
      "execution_count": 4,
      "metadata": {
        "id": "fbs_uDfGOR49"
      },
      "outputs": [],
      "source": [
        "class linklist:\n",
        "  def __init__(self):\n",
        "    self.head = None\n",
        "\n",
        "  def insertHead(self, x):\n",
        "    self.head = node(x)\n",
        "\n",
        "  def insert(self, y, x):\n",
        "    tmp = self.head\n",
        "    nodeNew = node(x)\n",
        "    while tmp != None:\n",
        "      if tmp.data == y:\n",
        "        break\n",
        "      tmp = tmp.next\n",
        "    nodeNew.next = tmp.next\n",
        "    tmp.next = nodeNew\n",
        "\n",
        "  def remove(self, x):\n",
        "    tmp = self.head\n",
        "    while tmp != None:\n",
        "      if tmp.data == x:\n",
        "        break\n",
        "      prev = tmp        #交互著前進，tmp當柱標、prev負責幫忙抓住要刪除的前一個節點\n",
        "      tmp = tmp.next\n",
        "    if tmp == self.head:\n",
        "      self.head = self.head.next\n",
        "    else:\n",
        "      prev.next = tmp.next  #prev直接跳過直接跳過tmp，指向其next，這樣就剔除了\n",
        "\n",
        "  def printlist(self):\n",
        "    tmp = self.head\n",
        "    while tmp != None:\n",
        "      print(tmp.data, end=' ')\n",
        "      tmp = tmp.next\n",
        "    print()"
      ]
    },
    {
      "cell_type": "code",
      "execution_count": 5,
      "metadata": {
        "colab": {
          "base_uri": "https://localhost:8080/"
        },
        "id": "qAsKu0bmS0Db",
        "outputId": "0d50752a-7b28-45b7-dde1-4cdc75c14b5c"
      },
      "outputs": [
        {
          "name": "stdout",
          "output_type": "stream",
          "text": [
            "5 1 4 8 7 3 2 \n",
            "5 1 4 8 7 6 3 2 \n",
            "5 1 4 7 6 3 2 \n"
          ]
        }
      ],
      "source": [
        "llst = linklist()\n",
        "\n",
        "llst.insertHead(5)\n",
        "llst.insert(5, 1)\n",
        "llst.insert(1, 4)\n",
        "llst.insert(4, 8)\n",
        "llst.insert(8, 7)\n",
        "llst.insert(7, 3)\n",
        "llst.insert(3, 2)\n",
        "llst.printlist()\n",
        "\n",
        "llst.insert(7, 6)\n",
        "llst.printlist()\n",
        "\n",
        "llst.remove(8)\n",
        "llst.printlist()"
      ]
    }
  ],
  "metadata": {
    "colab": {
      "provenance": []
    },
    "kernelspec": {
      "display_name": "Python 3.10.5 64-bit",
      "language": "python",
      "name": "python3"
    },
    "language_info": {
      "codemirror_mode": {
        "name": "ipython",
        "version": 3
      },
      "file_extension": ".py",
      "mimetype": "text/x-python",
      "name": "python",
      "nbconvert_exporter": "python",
      "pygments_lexer": "ipython3",
      "version": "3.10.5"
    },
    "vscode": {
      "interpreter": {
        "hash": "32f2fe102a4f10662d8c13f75131e1ba377b7194060421a642fdea27c55fc65a"
      }
    }
  },
  "nbformat": 4,
  "nbformat_minor": 0
}
